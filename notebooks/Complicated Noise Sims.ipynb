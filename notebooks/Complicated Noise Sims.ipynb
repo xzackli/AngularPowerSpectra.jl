{
 "cells": [
  {
   "cell_type": "code",
   "execution_count": 1,
   "metadata": {},
   "outputs": [
    {
     "name": "stderr",
     "output_type": "stream",
     "text": [
      "┌ Info: Precompiling AngularPowerSpectra [f5ca4f4d-e898-4791-800e-627d1338a64b]\n",
      "└ @ Base loading.jl:1260\n",
      "┌ Warning: Package AngularPowerSpectra does not have Random in its dependencies:\n",
      "│ - If you have AngularPowerSpectra checked out for development and have\n",
      "│   added Random as a dependency but haven't updated your primary\n",
      "│   environment's manifest file, try `Pkg.resolve()`.\n",
      "│ - Otherwise you may need to report an issue with AngularPowerSpectra\n",
      "└ Loading Random into AngularPowerSpectra from project dependency, future warnings for AngularPowerSpectra are suppressed.\n"
     ]
    },
    {
     "data": {
      "text/plain": [
       "PyObject <module 'pymaster' from '/home/zequnl/anaconda3/envs/ps/lib/python3.7/site-packages/pymaster-1.0.2-py3.7-linux-x86_64.egg/pymaster/__init__.py'>"
      ]
     },
     "execution_count": 1,
     "metadata": {},
     "output_type": "execute_result"
    }
   ],
   "source": [
    "using AngularPowerSpectra\n",
    "using Healpix\n",
    "using PyCall, PyPlot\n",
    "using CSV, DataFrames, LinearAlgebra\n",
    "using BenchmarkTools\n",
    "using Distributions, Random\n",
    "import ThreadPools: @qthreads\n",
    "using BenchmarkTools\n",
    "\n",
    "hp = pyimport(\"healpy\")\n",
    "nmt = pyimport(\"pymaster\")"
   ]
  },
  {
   "cell_type": "code",
   "execution_count": null,
   "metadata": {},
   "outputs": [],
   "source": [
    "nside = 256\n",
    "mask1 = Map{Float64, RingOrder}(ones(nside2npix(nside)))\n",
    "mask2 = Map{Float64, RingOrder}(ones(nside2npix(nside)))\n",
    "\n",
    "beam1 = SpectralVector(ones(3 * nside))\n",
    "beam2 = SpectralVector(ones(3 * nside))\n",
    "\n",
    "theory = CSV.read(\"data/theory.csv\")\n",
    "noise = CSV.read(\"data/noise.csv\")\n",
    "nltt = convert(Vector{Float64}, noise.nltt)\n",
    "\n",
    "nalm0 = generate_correlated_noise(nside, 10 * 2π / 180, nltt)\n",
    "pow = alm2cl(nalm0)\n",
    "x = Float64.(collect(eachindex(pow)))\n",
    "y = log.(pow)\n",
    "\n",
    "plot(pow)\n",
    "n0 = 1.5394030890788515 / nside\n",
    "plot(nltt)\n",
    "yscale(\"log\")"
   ]
  },
  {
   "cell_type": "code",
   "execution_count": 9,
   "metadata": {},
   "outputs": [
    {
     "name": "stdout",
     "output_type": "stream",
     "text": [
      "  4.067313 seconds (2.00 M allocations: 101.226 MiB, 1.36% gc time)\n",
      "  0.035333 seconds (30.20 k allocations: 5.972 MiB)\n"
     ]
    }
   ],
   "source": [
    "flat_mask = Map{Float64, RingOrder}(ones(nside2npix(nside)) )\n",
    "m_143_hm1 = Field(\"143_hm1\", mask1, flat_mask, beam1)\n",
    "m_143_hm2 = Field(\"143_hm2\", mask2, flat_mask, beam2)\n",
    "workspace = SpectralWorkspace(m_143_hm1, m_143_hm2, m_143_hm1, m_143_hm2)\n",
    "@time mcm = compute_mcm(workspace, \"143_hm1\", \"143_hm2\")\n",
    "@time factorized_mcm = cholesky(Hermitian(mcm.parent));"
   ]
  },
  {
   "cell_type": "code",
   "execution_count": 10,
   "metadata": {},
   "outputs": [
    {
     "data": {
      "text/plain": [
       "generate_sim_array (generic function with 1 method)"
      ]
     },
     "execution_count": 10,
     "metadata": {},
     "output_type": "execute_result"
    }
   ],
   "source": [
    "function get_sim(nside, nltt)\n",
    "    pixwin = true\n",
    "    signal = hp.synfast(theory.cltt, \n",
    "        nside, verbose=false, pixwin=pixwin, new=true)\n",
    "\n",
    "    n1 = alm2map(\n",
    "        generate_correlated_noise(nside, 10 * 2π / 180, nltt),\n",
    "        nside)\n",
    "    n2 = alm2map(\n",
    "        generate_correlated_noise(nside, 10 * 2π / 180, nltt),\n",
    "        nside)\n",
    "\n",
    "    map1 = Map{Float64, RingOrder}(nside)\n",
    "    map1.pixels .= hp.sphtfunc.smoothing(signal .+ n1, beam_window=beam1, verbose=false)\n",
    "    map2 = Map{Float64, RingOrder}(nside)\n",
    "    map2.pixels .= hp.sphtfunc.smoothing(signal .+ n2, beam_window=beam2, verbose=false)\n",
    "    Clhat = compute_spectra(map1 * mask1, map2 * mask2, factorized_mcm, beam1, beam2)\n",
    "    return Clhat\n",
    "end\n",
    "\n",
    "function generate_sim_array(nsims)\n",
    "    result = Array{Float64, 2}(undef, (3 * nside, nsims))\n",
    "    for i in 1:nsims\n",
    "        Clhat = get_sim(nside, nltt)\n",
    "        result[:,i] .= Clhat\n",
    "    end\n",
    "    return result\n",
    "end"
   ]
  },
  {
   "cell_type": "code",
   "execution_count": null,
   "metadata": {},
   "outputs": [],
   "source": [
    "sims = generate_sim_array(30)"
   ]
  },
  {
   "cell_type": "code",
   "execution_count": null,
   "metadata": {},
   "outputs": [],
   "source": []
  }
 ],
 "metadata": {
  "kernelspec": {
   "display_name": "Julia 1.5.2",
   "language": "julia",
   "name": "julia-1.5"
  },
  "language_info": {
   "file_extension": ".jl",
   "mimetype": "application/julia",
   "name": "julia",
   "version": "1.4.2"
  }
 },
 "nbformat": 4,
 "nbformat_minor": 4
}