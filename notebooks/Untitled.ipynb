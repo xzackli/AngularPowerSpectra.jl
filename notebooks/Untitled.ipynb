{
 "cells": [
  {
   "cell_type": "code",
   "execution_count": 1,
   "metadata": {},
   "outputs": [],
   "source": [
    "using LinearAlgebra"
   ]
  },
  {
   "cell_type": "code",
   "execution_count": 92,
   "metadata": {},
   "outputs": [
    {
     "data": {
      "text/plain": [
       "3×3 Array{Float64,2}:\n",
       " 1.6   0.4  0.1\n",
       " 0.3   1.4  0.9\n",
       " 0.45  0.8  1.7"
      ]
     },
     "execution_count": 92,
     "metadata": {},
     "output_type": "execute_result"
    }
   ],
   "source": [
    "A = [\n",
    "    1.0 0.2 0.3\n",
    "    0.4 2.0 0.15\n",
    "    0.3 0.1 1.44\n",
    "]\n",
    "\n",
    "B1 = [\n",
    "    1.2 0.6 0.1\n",
    "    0.3 1.4 0.5\n",
    "    0.44 0.2 1.3\n",
    "]\n",
    "\n",
    "B2 = [\n",
    "    1.6 0.4 0.1\n",
    "    0.3 1.4 0.9\n",
    "    0.45 0.8 1.7\n",
    "]"
   ]
  },
  {
   "cell_type": "code",
   "execution_count": 93,
   "metadata": {},
   "outputs": [
    {
     "data": {
      "text/plain": [
       "3×3 Diagonal{Float64,Array{Float64,1}}:\n",
       " 1.0   ⋅         ⋅ \n",
       "  ⋅   0.707107   ⋅ \n",
       "  ⋅    ⋅        0.833333"
      ]
     },
     "execution_count": 93,
     "metadata": {},
     "output_type": "execute_result"
    }
   ],
   "source": [
    "D = Diagonal(1.0 ./ diag(A))\n",
    "rootD = Diagonal(1.0 ./ sqrt.(diag(A)))"
   ]
  },
  {
   "cell_type": "code",
   "execution_count": 94,
   "metadata": {},
   "outputs": [
    {
     "data": {
      "text/plain": [
       "3×3 Array{Float64,2}:\n",
       "  0.665183   -0.845064   0.416732\n",
       " -0.298596    1.78202   -0.958393\n",
       "  0.0462809  -0.524177   0.85055"
      ]
     },
     "execution_count": 94,
     "metadata": {},
     "output_type": "execute_result"
    }
   ],
   "source": [
    "Cref = inv(B1) * (A) * (inv(B2)')"
   ]
  },
  {
   "cell_type": "code",
   "execution_count": 134,
   "metadata": {},
   "outputs": [
    {
     "data": {
      "text/plain": [
       "3×3 Array{Float64,2}:\n",
       "  0.665183   -0.845064   0.416732\n",
       " -0.298596    1.78202   -0.958393\n",
       "  0.0462809  -0.524177   0.85055"
      ]
     },
     "execution_count": 134,
     "metadata": {},
     "output_type": "execute_result"
    }
   ],
   "source": [
    "(inv(rootD * B1) * (rootD * A * rootD)) * (inv(rootD * B2)')"
   ]
  },
  {
   "cell_type": "code",
   "execution_count": 135,
   "metadata": {},
   "outputs": [
    {
     "data": {
      "text/plain": [
       "conjugate_covmat! (generic function with 1 method)"
      ]
     },
     "execution_count": 135,
     "metadata": {},
     "output_type": "execute_result"
    }
   ],
   "source": [
    "function conjugate_covmat!(B1, A, B2)\n",
    "    rootD = Diagonal(1.0 ./ sqrt.(diag(A)))\n",
    "    C = rootD * A * rootD\n",
    "    rdiv!(C', lu((rootD * B1)'))\n",
    "    rdiv!(C, lu((rootD * B2)'))\n",
    "    A .= C\n",
    "end"
   ]
  },
  {
   "cell_type": "code",
   "execution_count": null,
   "metadata": {},
   "outputs": [],
   "source": []
  },
  {
   "cell_type": "code",
   "execution_count": 136,
   "metadata": {},
   "outputs": [
    {
     "data": {
      "text/plain": [
       "3×3 Array{Float64,2}:\n",
       "  0.665183   -0.845064   0.416732\n",
       " -0.298596    1.78202   -0.958393\n",
       "  0.0462809  -0.524177   0.85055"
      ]
     },
     "execution_count": 136,
     "metadata": {},
     "output_type": "execute_result"
    }
   ],
   "source": [
    "C = deepcopy(A)\n",
    "conjugate_covmat!(B1, C, B2)\n",
    "C"
   ]
  },
  {
   "cell_type": "code",
   "execution_count": 137,
   "metadata": {},
   "outputs": [
    {
     "data": {
      "text/plain": [
       "3×3 Array{Float64,2}:\n",
       "  0.0           2.22045e-16   5.55112e-17\n",
       "  5.55112e-17  -2.22045e-16  -1.11022e-16\n",
       " -6.93889e-17   1.11022e-16   0.0"
      ]
     },
     "execution_count": 137,
     "metadata": {},
     "output_type": "execute_result"
    }
   ],
   "source": [
    "Cref .- C"
   ]
  },
  {
   "cell_type": "code",
   "execution_count": null,
   "metadata": {},
   "outputs": [],
   "source": []
  },
  {
   "cell_type": "code",
   "execution_count": null,
   "metadata": {},
   "outputs": [],
   "source": []
  }
 ],
 "metadata": {
  "kernelspec": {
   "display_name": "Julia 16 threads 1.5.3",
   "language": "julia",
   "name": "julia-16-threads-1.5"
  },
  "language_info": {
   "file_extension": ".jl",
   "mimetype": "application/julia",
   "name": "julia",
   "version": "1.5.3"
  }
 },
 "nbformat": 4,
 "nbformat_minor": 4
}
