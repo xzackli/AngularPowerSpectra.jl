{
 "cells": [
  {
   "cell_type": "code",
   "execution_count": 1,
   "metadata": {},
   "outputs": [
    {
     "data": {
      "text/plain": [
       "PyObject <module 'healpy' from '/tigress/zequnl/conda_envs/ps/lib/python3.8/site-packages/healpy/__init__.py'>"
      ]
     },
     "execution_count": 1,
     "metadata": {},
     "output_type": "execute_result"
    }
   ],
   "source": [
    "using PyCall, PyPlot\n",
    "PyPlot.svg(true)\n",
    "hp = pyimport(\"healpy\")"
   ]
  },
  {
   "cell_type": "code",
   "execution_count": 2,
   "metadata": {},
   "outputs": [],
   "source": [
    "using Healpix\n",
    "# blm, mmax = hp.read_alm(blm_file, return_mmax=true);"
   ]
  },
  {
   "cell_type": "code",
   "execution_count": 3,
   "metadata": {},
   "outputs": [
    {
     "ename": "LoadError",
     "evalue": "UndefVarError: fits_open_table not defined",
     "output_type": "error",
     "traceback": [
      "UndefVarError: fits_open_table not defined",
      "",
      "Stacktrace:",
      " [1] readAlmFromFITS(::String, ::Type{Complex{Float64}}) at /home/zequnl/.julia/packages/Healpix/KzFuu/src/alm.jl:85",
      " [2] top-level scope at In[3]:4",
      " [3] include_string(::Function, ::Module, ::String, ::String) at ./loading.jl:1091"
     ]
    }
   ],
   "source": [
    "blm_file = \"/tigress/adriaand/actpol/20210316_quickpol/blm.fits\"\n",
    "\n",
    "lmax, mmax = 30000, 100\n",
    "blm = Alm(lmax, mmax, readAlmFromFITS(blm_file, Complex{Float64}));\n",
    "\n",
    "blm.alm ./= (blm.alm[almIndex(blm, 0, 0)] * sqrt.(4π ./ (2*0 .+ 1)) );"
   ]
  },
  {
   "cell_type": "code",
   "execution_count": 4,
   "metadata": {},
   "outputs": [
    {
     "ename": "LoadError",
     "evalue": "UndefVarError: blm not defined",
     "output_type": "error",
     "traceback": [
      "UndefVarError: blm not defined",
      "",
      "Stacktrace:",
      " [1] (::var\"#1#2\")(::Int64) at ./none:0",
      " [2] iterate at ./generator.jl:47 [inlined]",
      " [3] collect(::Base.Generator{UnitRange{Int64},var\"#1#2\"}) at ./array.jl:686",
      " [4] top-level scope at In[4]:4",
      " [5] include_string(::Function, ::Module, ::String, ::String) at ./loading.jl:1091"
     ]
    }
   ],
   "source": [
    "fig, axes = subplots(1,2,figsize=(11,4))\n",
    "ℓ = 0:lmax\n",
    "factor = sqrt.(4π ./ (2ℓ .+ 1))\n",
    "axes[1].plot(factor .* [abs(blm.alm[almIndex(blm, l, 0)]) for l in 0:lmax], \"-\")\n",
    "\n",
    "for m in 1:5\n",
    "    axes[2].plot(factor .* [abs(blm.alm[almIndex(blm, l, m)]) for l in 0:lmax], \"-\")\n",
    "end\n",
    "axes[2].set_ylim(0,0.016)\n",
    "axes[1].set_ylabel(raw\"$\\sqrt{4\\pi/(2\\ell+1)} b_{\\ell}^m$\")\n",
    "axes[1].set_xlabel(raw\"Multipole moment, $\\ell$\")\n",
    "axes[2].set_xlabel(raw\"Multipole moment, $\\ell$\")"
   ]
  },
  {
   "cell_type": "code",
   "execution_count": null,
   "metadata": {},
   "outputs": [],
   "source": []
  },
  {
   "cell_type": "code",
   "execution_count": null,
   "metadata": {},
   "outputs": [],
   "source": []
  }
 ],
 "metadata": {
  "kernelspec": {
   "display_name": "Julia sysimg 8 threads 1.5.3",
   "language": "julia",
   "name": "julia-sysimg-8-threads-1.5"
  },
  "language_info": {
   "file_extension": ".jl",
   "mimetype": "application/julia",
   "name": "julia",
   "version": "1.5.3"
  }
 },
 "nbformat": 4,
 "nbformat_minor": 4
}
